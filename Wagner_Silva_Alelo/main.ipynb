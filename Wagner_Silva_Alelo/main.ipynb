{
 "cells": [
  {
   "cell_type": "code",
   "execution_count": 1,
   "metadata": {},
   "outputs": [],
   "source": [
    "from IPython.display import clear_output\n",
    "from IPython.display import display\n",
    "import ipywidgets as widgets\n",
    "from ipynb.fs.full.atletas import *\n",
    "from ipynb.fs.full.genero_esporte import *\n",
    "from ipynb.fs.full.treinadores import *\n",
    "from ipynb.fs.full.medalhas import *\n",
    "from ipynb.fs.full.times import *\n",
    "import pandas as pd"
   ]
  },
  {
   "cell_type": "code",
   "execution_count": 2,
   "metadata": {},
   "outputs": [],
   "source": [
    "     \n",
    "def escolha(opcao):\n",
    "    output.clear_output()\n",
    "    if opcao.new == 'Total de atletas participantes':\n",
    "        with output:\n",
    "            display(totalAtletas())     \n",
    "    \n",
    "    elif opcao.new == 'Quantidade de atletas por Comite':\n",
    "        with output:\n",
    "            display(totalComite())  \n",
    "    \n",
    "    elif opcao.new == 'Total de participantes homens':\n",
    "        with output:\n",
    "            display(totalHomens())\n",
    "    \n",
    "    elif opcao.new == 'Total de participantes mulheres':\n",
    "        with output:\n",
    "            display(totalMulheres())\n",
    "    \n",
    "    elif opcao.new == 'Total de participantes por esporte':\n",
    "        with output:\n",
    "            display(totalEsporte())\n",
    "    \n",
    "    elif opcao.new == 'Total de medalhas por país':\n",
    "        with output:\n",
    "            display(totalMedalhas())\n",
    "    \n",
    "    elif opcao.new == 'Ranking por medalhas totais':\n",
    "        with output:\n",
    "            display(rank())\n",
    "    \n",
    "    elif opcao.new == 'País com mais medalhas de ouro':\n",
    "        with output:\n",
    "            display(maxOuro())\n",
    "    \n",
    "    elif opcao.new == 'País com mais medalhas de prata':\n",
    "        with output:\n",
    "            display(maxPrata())\n",
    "    \n",
    "    elif opcao.new == 'País com mais medalhas de bronze':\n",
    "        with output:\n",
    "            display(maxBronze())\n",
    "    \n",
    "    elif opcao.new == 'País com menos medalhas de ouro':\n",
    "        with output:\n",
    "            display(minOuro())\n",
    "    \n",
    "    elif opcao.new == 'País com menos medalhas de prata':\n",
    "        with output:\n",
    "            display(minPrata())\n",
    "    \n",
    "    elif opcao.new == 'País com menos medalhas de bronze':\n",
    "        with output:\n",
    "            display(minBronze())\n",
    "    \n",
    "    elif opcao.new == 'Lista com esportes participantes':\n",
    "        with output:\n",
    "            display(esporteParticipantes())\n",
    "    \n",
    "    elif opcao.new == 'Lista de esportes com mais homens que mulheres':\n",
    "        with output:\n",
    "            display(maisHomens())\n",
    "    \n",
    "    elif opcao.new == 'Lista de esportes com mais mulheres que homens':\n",
    "        with output:\n",
    "            display(maisMulheres())\n",
    "    \n",
    "    elif opcao.new == 'Quantidade de treinadores por país':\n",
    "        with output:\n",
    "            display(totalTreinadores())\n",
    "    \n",
    "    elif opcao.new == 'País com a maior quantidade de treinadores':\n",
    "        with output:\n",
    "            display(maiorTreinadores())\n",
    "    \n",
    "    elif opcao.new == 'Quantidade de treinadores por esporte':\n",
    "        with output:\n",
    "            display(treinadoresEsporte())\n",
    "    \n",
    "    elif opcao.new == 'Quantos times por esporte cada país tem':\n",
    "        with output:\n",
    "            display(esportePais())"
   ]
  },
  {
   "cell_type": "code",
   "execution_count": 3,
   "metadata": {},
   "outputs": [],
   "source": [
    "opcao = ['Consulta','Total de atletas participantes',\n",
    "        'Quantidade de atletas por Comite',\n",
    "        'Total de participantes homens',\n",
    "        'Total de participantes mulheres',\n",
    "        'Total de participantes por esporte',\n",
    "        'Total de medalhas por país',\n",
    "        'Ranking por medalhas totais',\n",
    "        'País com mais medalhas de ouro',\n",
    "        'País com mais medalhas de prata',\n",
    "        'País com mais medalhas de bronze',\n",
    "        'País com menos medalhas de ouro',\n",
    "        'País com menos medalhas de prata',\n",
    "        'País com menos medalhas de bronze',\n",
    "        'Lista com esportes participantes',\n",
    "        'Lista de esportes com mais homens que mulheres',\n",
    "        'Lista de esportes com mais mulheres que homens',\n",
    "        'Quantidade de treinadores por país',\n",
    "        'País com a maior quantidade de treinadores',\n",
    "        'Quantidade de treinadores por esporte',\n",
    "        'Quantos times por esporte cada país tem']\n"
   ]
  },
  {
   "cell_type": "code",
   "execution_count": 4,
   "metadata": {},
   "outputs": [
    {
     "data": {
      "application/vnd.jupyter.widget-view+json": {
       "model_id": "5591c15e40c44cdc9009717e749c6205",
       "version_major": 2,
       "version_minor": 0
      },
      "text/plain": [
       "Dropdown(options=('Consulta', 'Total de atletas participantes', 'Quantidade de atletas por Comite', 'Total de …"
      ]
     },
     "metadata": {},
     "output_type": "display_data"
    },
    {
     "data": {
      "application/vnd.jupyter.widget-view+json": {
       "model_id": "50c9f1079d784b33a439296c4e8e4c09",
       "version_major": 2,
       "version_minor": 0
      },
      "text/plain": [
       "Output()"
      ]
     },
     "metadata": {},
     "output_type": "display_data"
    }
   ],
   "source": [
    "menu = widgets.Dropdown(options = opcao)\n",
    "output = widgets.Output()\n",
    "\n",
    "menu.observe(escolha, names=\"value\")\n",
    "display(menu)\n",
    "display(output)"
   ]
  },
  {
   "cell_type": "code",
   "execution_count": null,
   "metadata": {},
   "outputs": [],
   "source": []
  }
 ],
 "metadata": {
  "kernelspec": {
   "display_name": "Python 3",
   "language": "python",
   "name": "python3"
  },
  "language_info": {
   "codemirror_mode": {
    "name": "ipython",
    "version": 3
   },
   "file_extension": ".py",
   "mimetype": "text/x-python",
   "name": "python",
   "nbconvert_exporter": "python",
   "pygments_lexer": "ipython3",
   "version": "3.8.5"
  }
 },
 "nbformat": 4,
 "nbformat_minor": 4
}
