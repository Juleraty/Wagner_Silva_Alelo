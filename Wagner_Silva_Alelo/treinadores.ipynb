{
 "cells": [
  {
   "cell_type": "code",
   "execution_count": 1,
   "metadata": {},
   "outputs": [],
   "source": [
    "import pandas as pd"
   ]
  },
  {
   "cell_type": "code",
   "execution_count": 2,
   "metadata": {},
   "outputs": [],
   "source": [
    "df_treinadores = pd.read_excel('Coaches.xlsx')\n",
    "#pd.DataFrame(df_treinadores)"
   ]
  },
  {
   "cell_type": "code",
   "execution_count": 3,
   "metadata": {},
   "outputs": [
    {
     "data": {
      "text/plain": [
       "Name            0\n",
       "NOC             0\n",
       "Discipline      0\n",
       "Event         145\n",
       "dtype: int64"
      ]
     },
     "execution_count": 3,
     "metadata": {},
     "output_type": "execute_result"
    }
   ],
   "source": [
    "df_treinadores.isnull().sum() # Verificando a quantidade de valores ausentes"
   ]
  },
  {
   "cell_type": "code",
   "execution_count": 4,
   "metadata": {},
   "outputs": [
    {
     "data": {
      "text/plain": [
       "Name          0.00000\n",
       "NOC           0.00000\n",
       "Discipline    0.00000\n",
       "Event         0.36802\n",
       "dtype: float64"
      ]
     },
     "execution_count": 4,
     "metadata": {},
     "output_type": "execute_result"
    }
   ],
   "source": [
    "df_treinadores.isna().mean() # Porcentagem dos valores ausentes"
   ]
  },
  {
   "cell_type": "code",
   "execution_count": 5,
   "metadata": {},
   "outputs": [],
   "source": [
    "total = 0\n",
    "lista1 = []\n",
    "lista2 = []\n",
    "d = {'Pais':lista1, 'Total Treinadores': lista2}\n",
    "for i in df_treinadores['NOC'].unique():\n",
    "    total = df_treinadores['NOC'].value_counts()[i]\n",
    "    lista1.append(i)\n",
    "    lista2.append(total)\n",
    "\n",
    "total1 = 0\n",
    "lista3 = []\n",
    "lista4 = []\n",
    "d1 = {'Esporte':lista3, 'Total Treinadores': lista4}\n",
    "for i in df_treinadores['Discipline'].unique():\n",
    "    total1 = df_treinadores['Discipline'].value_counts()[i]\n",
    "    lista3.append(i)\n",
    "    lista4.append(total1)\n",
    "\n",
    "df1 = pd.DataFrame(d)\n",
    "df2 = pd.DataFrame(d1)"
   ]
  },
  {
   "cell_type": "code",
   "execution_count": 6,
   "metadata": {},
   "outputs": [],
   "source": [
    "def totalTreinadores():\n",
    "    global df1\n",
    "    print('Total de Treinadores por Pais.\\n')\n",
    "    df1 = df1.sort_values(by='Total Treinadores', ascending=False)\n",
    "    return df1"
   ]
  },
  {
   "cell_type": "code",
   "execution_count": 9,
   "metadata": {},
   "outputs": [],
   "source": [
    "def maiorTreinadores():\n",
    "    global df1\n",
    "    max_trein = df1['Total Treinadores'].max()\n",
    "    max_ind = df1['Total Treinadores'].idxmax()\n",
    "    nome = df1['Pais'][max_ind]\n",
    "    d = {'Pais': [nome], 'Total de Treinadores': [max_trein] }\n",
    "    df = pd.DataFrame(d)\n",
    "    return df\n",
    "\n",
    "    "
   ]
  },
  {
   "cell_type": "code",
   "execution_count": 8,
   "metadata": {},
   "outputs": [],
   "source": [
    "def treinadoresEsporte():\n",
    "    global df2\n",
    "    print('Total de Treinadores por Esporte.\\n')\n",
    "    df2 = df2.sort_values(by='Total Treinadores', ascending=False)\n",
    "    return df2"
   ]
  },
  {
   "cell_type": "code",
   "execution_count": null,
   "metadata": {},
   "outputs": [],
   "source": []
  }
 ],
 "metadata": {
  "kernelspec": {
   "display_name": "Python 3",
   "language": "python",
   "name": "python3"
  },
  "language_info": {
   "codemirror_mode": {
    "name": "ipython",
    "version": 3
   },
   "file_extension": ".py",
   "mimetype": "text/x-python",
   "name": "python",
   "nbconvert_exporter": "python",
   "pygments_lexer": "ipython3",
   "version": "3.8.5"
  }
 },
 "nbformat": 4,
 "nbformat_minor": 4
}
