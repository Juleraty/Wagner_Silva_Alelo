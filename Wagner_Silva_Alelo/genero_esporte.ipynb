{
 "cells": [
  {
   "cell_type": "code",
   "execution_count": 1,
   "metadata": {},
   "outputs": [],
   "source": [
    "import pandas as pd"
   ]
  },
  {
   "cell_type": "code",
   "execution_count": 2,
   "metadata": {},
   "outputs": [],
   "source": [
    "df_genero_esporte = pd.read_excel('EntriesGender.xlsx')\n",
    "#pd.DataFrame(df_genero_esporte)"
   ]
  },
  {
   "cell_type": "code",
   "execution_count": 3,
   "metadata": {},
   "outputs": [
    {
     "data": {
      "text/plain": [
       "Discipline    0\n",
       "Female        0\n",
       "Male          0\n",
       "dtype: int64"
      ]
     },
     "execution_count": 3,
     "metadata": {},
     "output_type": "execute_result"
    }
   ],
   "source": [
    "df_genero_esporte.isnull().sum() # Verificando a quantidade de valores ausentes"
   ]
  },
  {
   "cell_type": "code",
   "execution_count": 4,
   "metadata": {},
   "outputs": [],
   "source": [
    "def totalHomens():\n",
    "    homens = df_genero_esporte['Male'].sum()\n",
    "    d = {'Homem': ['Homens'], 'Total de participantes': [homens] }\n",
    "    df = pd.DataFrame(d)\n",
    "    return df\n"
   ]
  },
  {
   "cell_type": "code",
   "execution_count": 5,
   "metadata": {},
   "outputs": [],
   "source": [
    "def totalMulheres():\n",
    "    mulheres = df_genero_esporte['Female'].sum()\n",
    "    d = {'Mulher': ['Mulheres'], 'Total de participantes': [mulheres] }\n",
    "    df = pd.DataFrame(d)\n",
    "    return df"
   ]
  },
  {
   "cell_type": "code",
   "execution_count": 6,
   "metadata": {},
   "outputs": [],
   "source": [
    "def totalEsporte():\n",
    "    print('Total de participantes por esporte.\\n')\n",
    "    lista1 = []\n",
    "    lista2 = []\n",
    "    d = {'Esporte':lista1, 'Total de participantes': lista2}\n",
    "    for i in df_genero_esporte['Discipline'].unique():\n",
    "        df = df_genero_esporte.loc[df_genero_esporte['Discipline'] == i]\n",
    "        total = df['Female'].sum() + df['Male'].sum()\n",
    "        lista1.append(i)\n",
    "        lista2.append(total)\n",
    "        \n",
    "    df1 = pd.DataFrame(d)\n",
    "    return df1"
   ]
  },
  {
   "cell_type": "code",
   "execution_count": 7,
   "metadata": {},
   "outputs": [],
   "source": [
    "def maisHomens():\n",
    "    print('Esporte com mais homens')\n",
    "    df = df_genero_esporte.query('Male > Female')\n",
    "    return pd.DataFrame(df)"
   ]
  },
  {
   "cell_type": "code",
   "execution_count": 8,
   "metadata": {},
   "outputs": [],
   "source": [
    "def maisMulheres():\n",
    "    print('Esporte com mais mulheres')\n",
    "    df = df_genero_esporte.query('Male < Female')\n",
    "    return pd.DataFrame(df)"
   ]
  },
  {
   "cell_type": "code",
   "execution_count": null,
   "metadata": {},
   "outputs": [],
   "source": []
  }
 ],
 "metadata": {
  "kernelspec": {
   "display_name": "Python 3",
   "language": "python",
   "name": "python3"
  },
  "language_info": {
   "codemirror_mode": {
    "name": "ipython",
    "version": 3
   },
   "file_extension": ".py",
   "mimetype": "text/x-python",
   "name": "python",
   "nbconvert_exporter": "python",
   "pygments_lexer": "ipython3",
   "version": "3.8.5"
  }
 },
 "nbformat": 4,
 "nbformat_minor": 4
}
