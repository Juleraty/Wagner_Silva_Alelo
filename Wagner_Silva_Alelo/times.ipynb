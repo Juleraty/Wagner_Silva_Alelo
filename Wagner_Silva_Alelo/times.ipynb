{
 "cells": [
  {
   "cell_type": "code",
   "execution_count": 1,
   "metadata": {},
   "outputs": [],
   "source": [
    "import pandas as pd "
   ]
  },
  {
   "cell_type": "code",
   "execution_count": 2,
   "metadata": {},
   "outputs": [],
   "source": [
    "df_times = pd.read_excel('Teams.xlsx')\n",
    "#pd.DataFrame(df_times)"
   ]
  },
  {
   "cell_type": "code",
   "execution_count": 3,
   "metadata": {},
   "outputs": [
    {
     "data": {
      "text/plain": [
       "Name          0\n",
       "Discipline    0\n",
       "NOC           0\n",
       "Event         0\n",
       "dtype: int64"
      ]
     },
     "execution_count": 3,
     "metadata": {},
     "output_type": "execute_result"
    }
   ],
   "source": [
    "df_times.isnull().sum() # Verificando a quantidade de valores ausentes"
   ]
  },
  {
   "cell_type": "code",
   "execution_count": 4,
   "metadata": {},
   "outputs": [],
   "source": [
    "def esportePais():\n",
    "    print('Quantidade de Times por esporte:')\n",
    "    a = []\n",
    "    b = []\n",
    "    c = []\n",
    "    d = {'Pais':a, 'Esporte': b, 'Total de Times': c}\n",
    "    for i in df_times['Name'].unique():\n",
    "        df1 = df_times.loc[df_times['Name'] == i]  \n",
    "        for j in df1['Discipline'].unique():\n",
    "            total = df1['Discipline'].value_counts()[j]\n",
    "            a.append(i)\n",
    "            b.append(j)\n",
    "            c.append(total)\n",
    "    df1 = pd.DataFrame(d)\n",
    "    return(df1)"
   ]
  },
  {
   "cell_type": "code",
   "execution_count": 5,
   "metadata": {},
   "outputs": [],
   "source": [
    "def esporteParticipantes():\n",
    "    \n",
    "    a = []\n",
    "    b = []\n",
    "    d = {'Esporte': a, 'Qnt de Paises': b}\n",
    "    for i in df_times['Discipline'].unique():\n",
    "        total = df_times['Discipline'].value_counts()[i]\n",
    "        a.append(i)\n",
    "        b.append(total)\n",
    "    df = pd.DataFrame(d)\n",
    "    return df\n",
    "        "
   ]
  },
  {
   "cell_type": "code",
   "execution_count": null,
   "metadata": {},
   "outputs": [],
   "source": []
  }
 ],
 "metadata": {
  "kernelspec": {
   "display_name": "Python 3",
   "language": "python",
   "name": "python3"
  },
  "language_info": {
   "codemirror_mode": {
    "name": "ipython",
    "version": 3
   },
   "file_extension": ".py",
   "mimetype": "text/x-python",
   "name": "python",
   "nbconvert_exporter": "python",
   "pygments_lexer": "ipython3",
   "version": "3.8.5"
  }
 },
 "nbformat": 4,
 "nbformat_minor": 4
}
