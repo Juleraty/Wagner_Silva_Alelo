{
 "cells": [
  {
   "cell_type": "code",
   "execution_count": 1,
   "metadata": {},
   "outputs": [],
   "source": [
    "import pandas as pd"
   ]
  },
  {
   "cell_type": "code",
   "execution_count": 2,
   "metadata": {},
   "outputs": [],
   "source": [
    "df_atletas = pd.read_excel('Athletes.xlsx')\n",
    "#pd.DataFrame(df_atletas)"
   ]
  },
  {
   "cell_type": "code",
   "execution_count": 3,
   "metadata": {},
   "outputs": [
    {
     "data": {
      "text/plain": [
       "Name          0\n",
       "NOC           0\n",
       "Discipline    0\n",
       "dtype: int64"
      ]
     },
     "execution_count": 3,
     "metadata": {},
     "output_type": "execute_result"
    }
   ],
   "source": [
    "df_atletas.isnull().sum() # Verificando a quantidade de valores ausentes"
   ]
  },
  {
   "cell_type": "code",
   "execution_count": 4,
   "metadata": {},
   "outputs": [],
   "source": [
    "def totalComite():\n",
    "    total = 0\n",
    "    lista1 = []\n",
    "    lista2 = []\n",
    "    d = {'Comite':lista1, 'Atletas': lista2}\n",
    "    for i in df_atletas['NOC'].unique():\n",
    "        total = df_atletas['NOC'].value_counts()[i]\n",
    "        lista1.append(i)\n",
    "        lista2.append(total)\n",
    "    df1 = pd.DataFrame(d)\n",
    "    print('Quantidade de atletas por Comite:\\n')\n",
    "    df1 = df1.sort_values(by='Atletas', ascending=False)\n",
    "    return df1"
   ]
  },
  {
   "cell_type": "code",
   "execution_count": 5,
   "metadata": {},
   "outputs": [],
   "source": [
    "#Calculando total de atletas participantes \n",
    "def totalAtletas():\n",
    "    \n",
    "    atletas = df_atletas['Name']\n",
    "    total = len(atletas)\n",
    "    d = {'Atletas': ['Atletas'], 'Total de participantes': [total] }\n",
    "    df = pd.DataFrame(d)\n",
    "    return df\n",
    "    "
   ]
  },
  {
   "cell_type": "code",
   "execution_count": null,
   "metadata": {},
   "outputs": [],
   "source": []
  }
 ],
 "metadata": {
  "kernelspec": {
   "display_name": "Python 3",
   "language": "python",
   "name": "python3"
  },
  "language_info": {
   "codemirror_mode": {
    "name": "ipython",
    "version": 3
   },
   "file_extension": ".py",
   "mimetype": "text/x-python",
   "name": "python",
   "nbconvert_exporter": "python",
   "pygments_lexer": "ipython3",
   "version": "3.8.5"
  }
 },
 "nbformat": 4,
 "nbformat_minor": 4
}
