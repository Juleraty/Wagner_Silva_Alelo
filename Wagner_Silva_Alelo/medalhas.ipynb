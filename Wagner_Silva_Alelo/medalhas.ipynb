{
 "cells": [
  {
   "cell_type": "code",
   "execution_count": 1,
   "metadata": {},
   "outputs": [],
   "source": [
    "import pandas as pd "
   ]
  },
  {
   "cell_type": "code",
   "execution_count": 2,
   "metadata": {},
   "outputs": [],
   "source": [
    "df_medalhas = pd.read_excel('Medals.xlsx')\n",
    "#pd.DataFrame(df_medalhas)"
   ]
  },
  {
   "cell_type": "code",
   "execution_count": 3,
   "metadata": {},
   "outputs": [
    {
     "data": {
      "text/plain": [
       "Rank        0\n",
       "Team/NOC    0\n",
       "Gold        0\n",
       "Silver      0\n",
       "Bronze      0\n",
       "dtype: int64"
      ]
     },
     "execution_count": 3,
     "metadata": {},
     "output_type": "execute_result"
    }
   ],
   "source": [
    "df_medalhas.isnull().sum() # Verificando a quantidade de valores ausentes"
   ]
  },
  {
   "cell_type": "code",
   "execution_count": 4,
   "metadata": {},
   "outputs": [],
   "source": [
    "for i, row in df_medalhas.iterrows():\n",
    "    total = row['Gold'] + row['Silver'] + row['Bronze']\n",
    "    df_medalhas.loc[i,'Total de Medalhas'] = total\n",
    "df = df_medalhas\n",
    "df1 = df.drop(columns=['Rank','Gold', 'Silver', 'Bronze'])"
   ]
  },
  {
   "cell_type": "code",
   "execution_count": 5,
   "metadata": {},
   "outputs": [],
   "source": [
    "def totalMedalhas():\n",
    "    print('Total de medalhas por pais')\n",
    "    return pd.DataFrame(df1)"
   ]
  },
  {
   "cell_type": "code",
   "execution_count": 6,
   "metadata": {},
   "outputs": [],
   "source": [
    "def rank():\n",
    "    Rank = []\n",
    "    df2 = df1.sort_values(by='Total de Medalhas', ascending=False)\n",
    "    for i in range(1, 94):\n",
    "        Rank.append(i)\n",
    "    df2['Rank por medalhas'] = Rank\n",
    "    return (df2)"
   ]
  },
  {
   "cell_type": "code",
   "execution_count": 7,
   "metadata": {},
   "outputs": [],
   "source": [
    "def maxOuro():\n",
    "    \n",
    "    max_ouro = df_medalhas['Gold'].max()\n",
    "    max_ind = df_medalhas['Gold'].idxmax()\n",
    "    nome = df_medalhas['Team/NOC'][max_ind]\n",
    "    d = {'Pais': [nome], 'Total de Medalhas': [max_ouro] }\n",
    "    df = pd.DataFrame(d)\n",
    "    return df\n",
    "    "
   ]
  },
  {
   "cell_type": "code",
   "execution_count": 8,
   "metadata": {},
   "outputs": [],
   "source": [
    "def maxPrata():\n",
    "    \n",
    "    max_prata = df_medalhas['Silver'].max()\n",
    "    max_ind = df_medalhas['Silver'].idxmax()\n",
    "    nome = df_medalhas['Team/NOC'][max_ind] \n",
    "    d = {'Pais': [nome], 'Total de Medalhas': [max_prata] }\n",
    "    df = pd.DataFrame(d)\n",
    "    return df"
   ]
  },
  {
   "cell_type": "code",
   "execution_count": 9,
   "metadata": {},
   "outputs": [],
   "source": [
    "def maxBronze():\n",
    "    \n",
    "    max_bronze = df_medalhas['Bronze'].max()\n",
    "    max_ind = df_medalhas['Bronze'].idxmax()\n",
    "    nome = df_medalhas['Team/NOC'][max_ind]\n",
    "    d = {'Pais': [nome], 'Total de Medalhas': [max_bronze] }\n",
    "    df = pd.DataFrame(d)\n",
    "    return df\n",
    "    print(f'{nome} tem o maior quatidade de Bronze, total de {max_ouro} medalhas')"
   ]
  },
  {
   "cell_type": "code",
   "execution_count": 10,
   "metadata": {},
   "outputs": [],
   "source": [
    "def minOuro():\n",
    "    df_min = pd.DataFrame()\n",
    "    min_ouro = df_medalhas['Gold'].min()\n",
    "    for i, row in df_medalhas.iterrows():\n",
    "        if row['Gold'] == min_ouro:\n",
    "            df_min.loc[i,'Pais'] = df_medalhas['Team/NOC'][i]\n",
    "            df_min.loc[i, 'Medalhas'] = row['Gold']\n",
    "    return pd.DataFrame(df_min)\n",
    "    "
   ]
  },
  {
   "cell_type": "code",
   "execution_count": 11,
   "metadata": {},
   "outputs": [],
   "source": [
    "def minPrata():\n",
    "    df_min = pd.DataFrame()\n",
    "    min_prata = df_medalhas['Silver'].min()\n",
    "    for i, row in df_medalhas.iterrows():\n",
    "        if row['Silver'] == min_prata:\n",
    "            df_min.loc[i,'Pais'] = df_medalhas['Team/NOC'][i]\n",
    "            df_min.loc[i, 'Medalhas'] = row['Silver']\n",
    "    return pd.DataFrame(df_min)"
   ]
  },
  {
   "cell_type": "code",
   "execution_count": 12,
   "metadata": {},
   "outputs": [],
   "source": [
    "def minBronze():\n",
    "    df_min = pd.DataFrame()\n",
    "    min_bronze = df_medalhas['Bronze'].min()\n",
    "    for i, row in df_medalhas.iterrows():\n",
    "        if row['Bronze'] == min_bronze:\n",
    "            df_min.loc[i,'Pais'] = df_medalhas['Team/NOC'][i]\n",
    "            df_min.loc[i, 'Medalhas'] = row['Bronze']\n",
    "    return pd.DataFrame(df_min)"
   ]
  },
  {
   "cell_type": "code",
   "execution_count": null,
   "metadata": {},
   "outputs": [],
   "source": []
  }
 ],
 "metadata": {
  "kernelspec": {
   "display_name": "Python 3",
   "language": "python",
   "name": "python3"
  },
  "language_info": {
   "codemirror_mode": {
    "name": "ipython",
    "version": 3
   },
   "file_extension": ".py",
   "mimetype": "text/x-python",
   "name": "python",
   "nbconvert_exporter": "python",
   "pygments_lexer": "ipython3",
   "version": "3.8.5"
  }
 },
 "nbformat": 4,
 "nbformat_minor": 4
}
